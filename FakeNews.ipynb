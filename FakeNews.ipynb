{
  "nbformat": 4,
  "nbformat_minor": 0,
  "metadata": {
    "colab": {
      "name": "FakeNews.ipynb",
      "provenance": [],
      "collapsed_sections": []
    },
    "kernelspec": {
      "display_name": "Python 3",
      "name": "python3"
    },
    "language_info": {
      "name": "python"
    }
  },
  "cells": [
    {
      "cell_type": "code",
      "metadata": {
        "id": "KSL2SbX63qPM"
      },
      "source": [
        "import matplotlib.pyplot as plt\n",
        "import seaborn as sns\n",
        "import numpy as np\n",
        "import pandas as pd\n",
        "import torch\n",
        "import torch.nn as nn\n",
        "from sklearn.model_selection import train_test_split\n",
        "from sklearn.metrics import classification_report\n",
        "from sklearn.decomposition import PCA\n",
        "import tensorflow_hub as hub"
      ],
      "execution_count": null,
      "outputs": []
    },
    {
      "cell_type": "code",
      "metadata": {
        "id": "rjEUey7n-eTk"
      },
      "source": [
        "pip install pycaret"
      ],
      "execution_count": null,
      "outputs": []
    },
    {
      "cell_type": "code",
      "metadata": {
        "id": "jzSdvmOw_bNb"
      },
      "source": [
        "from pycaret.classification import *"
      ],
      "execution_count": null,
      "outputs": []
    },
    {
      "cell_type": "code",
      "metadata": {
        "id": "URyrOPy6_lAB"
      },
      "source": [
        "pip install transformers"
      ],
      "execution_count": null,
      "outputs": []
    },
    {
      "cell_type": "code",
      "metadata": {
        "id": "VAjqtpxu_xlO"
      },
      "source": [
        "import transformers\n",
        "from transformers import AutoModel, BertTokenizerFast\n",
        "from sklearn.preprocessing import LabelEncoder\n",
        "from sklearn.metrics import plot_confusion_matrix"
      ],
      "execution_count": null,
      "outputs": []
    },
    {
      "cell_type": "code",
      "metadata": {
        "colab": {
          "base_uri": "https://localhost:8080/"
        },
        "id": "epMJ3a563x1t",
        "outputId": "8b1b4097-6fc5-4892-b5dc-29d112241c24"
      },
      "source": [
        "from google.colab import drive\n",
        "drive.mount(\"/content/gdrive\")"
      ],
      "execution_count": null,
      "outputs": [
        {
          "output_type": "stream",
          "name": "stdout",
          "text": [
            "Mounted at /content/gdrive\n"
          ]
        }
      ]
    },
    {
      "cell_type": "code",
      "metadata": {
        "id": "lPK_oNU84FJX"
      },
      "source": [
        "true_data = pd.read_csv('/content/gdrive/My Drive/Dataset/True.csv')"
      ],
      "execution_count": null,
      "outputs": []
    },
    {
      "cell_type": "code",
      "metadata": {
        "id": "2ltRNGbg5Eqc"
      },
      "source": [
        "fake_data = pd.read_csv('/content/gdrive/My Drive/Dataset/Fake.csv')"
      ],
      "execution_count": null,
      "outputs": []
    },
    {
      "cell_type": "code",
      "metadata": {
        "colab": {
          "base_uri": "https://localhost:8080/",
          "height": 203
        },
        "id": "8lJ2D8QO5LTf",
        "outputId": "efc96089-4b77-4504-f918-fdf51a57126d"
      },
      "source": [
        "true_data.head()"
      ],
      "execution_count": null,
      "outputs": [
        {
          "output_type": "execute_result",
          "data": {
            "text/html": [
              "<div>\n",
              "<style scoped>\n",
              "    .dataframe tbody tr th:only-of-type {\n",
              "        vertical-align: middle;\n",
              "    }\n",
              "\n",
              "    .dataframe tbody tr th {\n",
              "        vertical-align: top;\n",
              "    }\n",
              "\n",
              "    .dataframe thead th {\n",
              "        text-align: right;\n",
              "    }\n",
              "</style>\n",
              "<table border=\"1\" class=\"dataframe\">\n",
              "  <thead>\n",
              "    <tr style=\"text-align: right;\">\n",
              "      <th></th>\n",
              "      <th>title</th>\n",
              "      <th>text</th>\n",
              "      <th>subject</th>\n",
              "      <th>date</th>\n",
              "    </tr>\n",
              "  </thead>\n",
              "  <tbody>\n",
              "    <tr>\n",
              "      <th>0</th>\n",
              "      <td>As U.S. budget fight looms, Republicans flip t...</td>\n",
              "      <td>WASHINGTON (Reuters) - The head of a conservat...</td>\n",
              "      <td>politicsNews</td>\n",
              "      <td>December 31, 2017</td>\n",
              "    </tr>\n",
              "    <tr>\n",
              "      <th>1</th>\n",
              "      <td>U.S. military to accept transgender recruits o...</td>\n",
              "      <td>WASHINGTON (Reuters) - Transgender people will...</td>\n",
              "      <td>politicsNews</td>\n",
              "      <td>December 29, 2017</td>\n",
              "    </tr>\n",
              "    <tr>\n",
              "      <th>2</th>\n",
              "      <td>Senior U.S. Republican senator: 'Let Mr. Muell...</td>\n",
              "      <td>WASHINGTON (Reuters) - The special counsel inv...</td>\n",
              "      <td>politicsNews</td>\n",
              "      <td>December 31, 2017</td>\n",
              "    </tr>\n",
              "    <tr>\n",
              "      <th>3</th>\n",
              "      <td>FBI Russia probe helped by Australian diplomat...</td>\n",
              "      <td>WASHINGTON (Reuters) - Trump campaign adviser ...</td>\n",
              "      <td>politicsNews</td>\n",
              "      <td>December 30, 2017</td>\n",
              "    </tr>\n",
              "    <tr>\n",
              "      <th>4</th>\n",
              "      <td>Trump wants Postal Service to charge 'much mor...</td>\n",
              "      <td>SEATTLE/WASHINGTON (Reuters) - President Donal...</td>\n",
              "      <td>politicsNews</td>\n",
              "      <td>December 29, 2017</td>\n",
              "    </tr>\n",
              "  </tbody>\n",
              "</table>\n",
              "</div>"
            ],
            "text/plain": [
              "                                               title  \\\n",
              "0  As U.S. budget fight looms, Republicans flip t...   \n",
              "1  U.S. military to accept transgender recruits o...   \n",
              "2  Senior U.S. Republican senator: 'Let Mr. Muell...   \n",
              "3  FBI Russia probe helped by Australian diplomat...   \n",
              "4  Trump wants Postal Service to charge 'much mor...   \n",
              "\n",
              "                                                text       subject  \\\n",
              "0  WASHINGTON (Reuters) - The head of a conservat...  politicsNews   \n",
              "1  WASHINGTON (Reuters) - Transgender people will...  politicsNews   \n",
              "2  WASHINGTON (Reuters) - The special counsel inv...  politicsNews   \n",
              "3  WASHINGTON (Reuters) - Trump campaign adviser ...  politicsNews   \n",
              "4  SEATTLE/WASHINGTON (Reuters) - President Donal...  politicsNews   \n",
              "\n",
              "                 date  \n",
              "0  December 31, 2017   \n",
              "1  December 29, 2017   \n",
              "2  December 31, 2017   \n",
              "3  December 30, 2017   \n",
              "4  December 29, 2017   "
            ]
          },
          "metadata": {},
          "execution_count": 9
        }
      ]
    },
    {
      "cell_type": "code",
      "metadata": {
        "colab": {
          "base_uri": "https://localhost:8080/",
          "height": 203
        },
        "id": "w2zHDAnN5Xmh",
        "outputId": "5bb909fd-b204-43c1-b665-85be05961449"
      },
      "source": [
        "fake_data.head()"
      ],
      "execution_count": null,
      "outputs": [
        {
          "output_type": "execute_result",
          "data": {
            "text/html": [
              "<div>\n",
              "<style scoped>\n",
              "    .dataframe tbody tr th:only-of-type {\n",
              "        vertical-align: middle;\n",
              "    }\n",
              "\n",
              "    .dataframe tbody tr th {\n",
              "        vertical-align: top;\n",
              "    }\n",
              "\n",
              "    .dataframe thead th {\n",
              "        text-align: right;\n",
              "    }\n",
              "</style>\n",
              "<table border=\"1\" class=\"dataframe\">\n",
              "  <thead>\n",
              "    <tr style=\"text-align: right;\">\n",
              "      <th></th>\n",
              "      <th>title</th>\n",
              "      <th>text</th>\n",
              "      <th>subject</th>\n",
              "      <th>date</th>\n",
              "    </tr>\n",
              "  </thead>\n",
              "  <tbody>\n",
              "    <tr>\n",
              "      <th>0</th>\n",
              "      <td>Donald Trump Sends Out Embarrassing New Year’...</td>\n",
              "      <td>Donald Trump just couldn t wish all Americans ...</td>\n",
              "      <td>News</td>\n",
              "      <td>December 31, 2017</td>\n",
              "    </tr>\n",
              "    <tr>\n",
              "      <th>1</th>\n",
              "      <td>Drunk Bragging Trump Staffer Started Russian ...</td>\n",
              "      <td>House Intelligence Committee Chairman Devin Nu...</td>\n",
              "      <td>News</td>\n",
              "      <td>December 31, 2017</td>\n",
              "    </tr>\n",
              "    <tr>\n",
              "      <th>2</th>\n",
              "      <td>Sheriff David Clarke Becomes An Internet Joke...</td>\n",
              "      <td>On Friday, it was revealed that former Milwauk...</td>\n",
              "      <td>News</td>\n",
              "      <td>December 30, 2017</td>\n",
              "    </tr>\n",
              "    <tr>\n",
              "      <th>3</th>\n",
              "      <td>Trump Is So Obsessed He Even Has Obama’s Name...</td>\n",
              "      <td>On Christmas day, Donald Trump announced that ...</td>\n",
              "      <td>News</td>\n",
              "      <td>December 29, 2017</td>\n",
              "    </tr>\n",
              "    <tr>\n",
              "      <th>4</th>\n",
              "      <td>Pope Francis Just Called Out Donald Trump Dur...</td>\n",
              "      <td>Pope Francis used his annual Christmas Day mes...</td>\n",
              "      <td>News</td>\n",
              "      <td>December 25, 2017</td>\n",
              "    </tr>\n",
              "  </tbody>\n",
              "</table>\n",
              "</div>"
            ],
            "text/plain": [
              "                                               title  \\\n",
              "0   Donald Trump Sends Out Embarrassing New Year’...   \n",
              "1   Drunk Bragging Trump Staffer Started Russian ...   \n",
              "2   Sheriff David Clarke Becomes An Internet Joke...   \n",
              "3   Trump Is So Obsessed He Even Has Obama’s Name...   \n",
              "4   Pope Francis Just Called Out Donald Trump Dur...   \n",
              "\n",
              "                                                text subject  \\\n",
              "0  Donald Trump just couldn t wish all Americans ...    News   \n",
              "1  House Intelligence Committee Chairman Devin Nu...    News   \n",
              "2  On Friday, it was revealed that former Milwauk...    News   \n",
              "3  On Christmas day, Donald Trump announced that ...    News   \n",
              "4  Pope Francis used his annual Christmas Day mes...    News   \n",
              "\n",
              "                date  \n",
              "0  December 31, 2017  \n",
              "1  December 31, 2017  \n",
              "2  December 30, 2017  \n",
              "3  December 29, 2017  \n",
              "4  December 25, 2017  "
            ]
          },
          "metadata": {},
          "execution_count": 10
        }
      ]
    },
    {
      "cell_type": "code",
      "metadata": {
        "id": "okDV_xU05kL3"
      },
      "source": [
        "true_data['Target']=['True']*len(true_data)\n",
        "fake_data['Target']=['Fake']*len(fake_data)"
      ],
      "execution_count": null,
      "outputs": []
    },
    {
      "cell_type": "code",
      "metadata": {
        "id": "sohz9oeS5nXV"
      },
      "source": [
        "data=true_data.append(fake_data).sample(frac=1).reset_index().drop(columns=['index'])"
      ],
      "execution_count": null,
      "outputs": []
    },
    {
      "cell_type": "code",
      "metadata": {
        "id": "nO4QWe5N57jW"
      },
      "source": [
        "import matplotlib.pyplot as plt\n",
        "import seaborn as sns\n",
        "\n",
        "\n",
        "import torch\n",
        "import torch.nn as nn\n",
        "from sklearn.model_selection import train_test_split\n",
        "from sklearn.metrics import classification_report\n",
        "\n",
        "from sklearn.decomposition import PCA\n",
        "import tensorflow_hub as hub\n",
        "\n",
        "from sklearn.preprocessing import LabelEncoder\n",
        "from sklearn.metrics import plot_confusion_matrix\n",
        "#from googletrans import Translator\n",
        "plt.style.use('ggplot')\n",
        "plt.rcParams['font.family'] = 'sans-serif' \n",
        "plt.rcParams['font.serif'] = 'Ubuntu' \n",
        "plt.rcParams['font.monospace'] = 'Ubuntu Mono' \n",
        "plt.rcParams['font.size'] = 14 \n",
        "plt.rcParams['axes.labelsize'] = 12 \n",
        "plt.rcParams['axes.labelweight'] = 'bold' \n",
        "plt.rcParams['axes.titlesize'] = 12 \n",
        "plt.rcParams['xtick.labelsize'] = 12 \n",
        "plt.rcParams['ytick.labelsize'] = 12 \n",
        "plt.rcParams['legend.fontsize'] = 12 \n",
        "plt.rcParams['figure.titlesize'] = 12 \n",
        "plt.rcParams['image.cmap'] = 'jet' \n",
        "plt.rcParams['image.interpolation'] = 'none' \n",
        "plt.rcParams['figure.figsize'] = (10, 10\n",
        "                                 ) \n",
        "plt.rcParams['axes.grid']=False\n",
        "plt.rcParams['lines.linewidth'] = 2 \n",
        "plt.rcParams['lines.markersize'] = 8\n",
        "colors = ['xkcd:pale range', 'xkcd:sea blue', 'xkcd:pale red', 'xkcd:sage green', 'xkcd:terra cotta', 'xkcd:dull purple', 'xkcd:teal', 'xkcd: goldenrod', 'xkcd:cadet blue',\n",
        "'xkcd:scarlet']\n",
        "bbox_props = dict(boxstyle=\"round,pad=0.3\", fc=colors[0], alpha=.5)"
      ],
      "execution_count": null,
      "outputs": []
    },
    {
      "cell_type": "code",
      "metadata": {
        "id": "53mmKBeQ6AM9"
      },
      "source": [
        "cat_tar=pd.get_dummies(data.Target)['Fake']"
      ],
      "execution_count": null,
      "outputs": []
    },
    {
      "cell_type": "code",
      "metadata": {
        "id": "oEkdqm7Z6dbT"
      },
      "source": [
        "label_size = [cat_tar.sum(),len(cat_tar)-cat_tar.sum()]"
      ],
      "execution_count": null,
      "outputs": []
    },
    {
      "cell_type": "code",
      "metadata": {
        "colab": {
          "base_uri": "https://localhost:8080/",
          "height": 676
        },
        "id": "NFH5YnTP6j0L",
        "outputId": "43cf463a-9798-4828-d1bd-24fb7ede77a1"
      },
      "source": [
        "plt.pie(label_size,explode=[0.1,0.1],colors=['firebrick','navy'],startangle=90,shadow=True,labels=['Fake','True'],autopct='%1.1f%%')"
      ],
      "execution_count": null,
      "outputs": [
        {
          "output_type": "execute_result",
          "data": {
            "text/plain": [
              "([<matplotlib.patches.Wedge at 0x7f084b9ab250>,\n",
              "  <matplotlib.patches.Wedge at 0x7f084b9abd50>],\n",
              " [Text(-1.1968727067385088, -0.0865778485782335, 'Fake'),\n",
              "  Text(1.1968726986325005, 0.08657796063754254, 'True')],\n",
              " [Text(-0.6981757455974634, -0.05050374500396954, '52.3%'),\n",
              "  Text(0.6981757408689586, 0.05050381037189981, '47.7%')])"
            ]
          },
          "metadata": {},
          "execution_count": 16
        },
        {
          "output_type": "display_data",
          "data": {
            "image/png": "[encoded data removed]",
            "text/plain": [
              "<Figure size 720x720 with 1 Axes>"
            ]
          },
          "metadata": {}
        }
      ]
    },
    {
      "cell_type": "code",
      "metadata": {
        "colab": {
          "base_uri": "https://localhost:8080/",
          "height": 612
        },
        "id": "I4LjTGgo6qPT",
        "outputId": "de5a63fb-6e05-471f-a3f7-4f5c118be767"
      },
      "source": [
        "sns.countplot(data.subject,palette='plasma')\n",
        "plt.grid(True)"
      ],
      "execution_count": null,
      "outputs": [
        {
          "output_type": "display_data",
          "data": {
            "image/png": "[encoded data removed]",
            "text/plain": [
              "<Figure size 720x720 with 1 Axes>"
            ]
          },
          "metadata": {}
        }
      ]
    },
    {
      "cell_type": "code",
      "metadata": {
        "id": "2gsbZ5_i6uVx"
      },
      "source": [
        "subject_data = pd.get_dummies(data.subject)"
      ],
      "execution_count": null,
      "outputs": []
    },
    {
      "cell_type": "code",
      "metadata": {
        "id": "xQMbNdDI60Sf"
      },
      "source": [
        "subject_data['Target']=pd.get_dummies(data.Target)['Fake']"
      ],
      "execution_count": null,
      "outputs": []
    },
    {
      "cell_type": "code",
      "metadata": {
        "id": "nz3BFNng7E1-"
      },
      "source": [
        "corr_data = abs(pd.DataFrame(subject_data.corr()['Target'])).drop('Target')"
      ],
      "execution_count": null,
      "outputs": []
    },
    {
      "cell_type": "code",
      "metadata": {
        "colab": {
          "base_uri": "https://localhost:8080/",
          "height": 295
        },
        "id": "R4W0-VvL7GjV",
        "outputId": "aedf1721-66c4-44ff-9850-fe3f28b1d9a9"
      },
      "source": [
        "corr_data"
      ],
      "execution_count": null,
      "outputs": [
        {
          "output_type": "execute_result",
          "data": {
            "text/html": [
              "<div>\n",
              "<style scoped>\n",
              "    .dataframe tbody tr th:only-of-type {\n",
              "        vertical-align: middle;\n",
              "    }\n",
              "\n",
              "    .dataframe tbody tr th {\n",
              "        vertical-align: top;\n",
              "    }\n",
              "\n",
              "    .dataframe thead th {\n",
              "        text-align: right;\n",
              "    }\n",
              "</style>\n",
              "<table border=\"1\" class=\"dataframe\">\n",
              "  <thead>\n",
              "    <tr style=\"text-align: right;\">\n",
              "      <th></th>\n",
              "      <th>Target</th>\n",
              "    </tr>\n",
              "  </thead>\n",
              "  <tbody>\n",
              "    <tr>\n",
              "      <th>Government News</th>\n",
              "      <td>0.181797</td>\n",
              "    </tr>\n",
              "    <tr>\n",
              "      <th>Middle-east</th>\n",
              "      <td>0.126822</td>\n",
              "    </tr>\n",
              "    <tr>\n",
              "      <th>News</th>\n",
              "      <td>0.479858</td>\n",
              "    </tr>\n",
              "    <tr>\n",
              "      <th>US_News</th>\n",
              "      <td>0.127236</td>\n",
              "    </tr>\n",
              "    <tr>\n",
              "      <th>left-news</th>\n",
              "      <td>0.317132</td>\n",
              "    </tr>\n",
              "    <tr>\n",
              "      <th>politics</th>\n",
              "      <td>0.404915</td>\n",
              "    </tr>\n",
              "    <tr>\n",
              "      <th>politicsNews</th>\n",
              "      <td>0.606236</td>\n",
              "    </tr>\n",
              "    <tr>\n",
              "      <th>worldnews</th>\n",
              "      <td>0.565730</td>\n",
              "    </tr>\n",
              "  </tbody>\n",
              "</table>\n",
              "</div>"
            ],
            "text/plain": [
              "                   Target\n",
              "Government News  0.181797\n",
              "Middle-east      0.126822\n",
              "News             0.479858\n",
              "US_News          0.127236\n",
              "left-news        0.317132\n",
              "politics         0.404915\n",
              "politicsNews     0.606236\n",
              "worldnews        0.565730"
            ]
          },
          "metadata": {},
          "execution_count": 21
        }
      ]
    },
    {
      "cell_type": "code",
      "metadata": {
        "colab": {
          "base_uri": "https://localhost:8080/",
          "height": 710
        },
        "id": "u5Yd8CN67Lhx",
        "outputId": "33d3e63d-997f-42d9-86f7-de376204ce4e"
      },
      "source": [
        "sns.barplot(x=corr_data.index,y=corr_data.Target,palette='plasma')\n",
        "plt.xticks(rotation=90)\n",
        "plt.grid(True)\n",
        "plt.ylabel('Correlation')"
      ],
      "execution_count": null,
      "outputs": [
        {
          "output_type": "execute_result",
          "data": {
            "text/plain": [
              "Text(0, 0.5, 'Correlation')"
            ]
          },
          "metadata": {},
          "execution_count": 22
        },
        {
          "output_type": "display_data",
          "data": {
            "image/png": "[encoded data removed]",
            "text/plain": [
              "<Figure size 720x720 with 1 Axes>"
            ]
          },
          "metadata": {}
        }
      ]
    },
    {
      "cell_type": "code",
      "metadata": {
        "id": "iJly1U2O7U3O"
      },
      "source": [
        "import sklearn.preprocessing as preprocessing"
      ],
      "execution_count": null,
      "outputs": []
    },
    {
      "cell_type": "code",
      "metadata": {
        "id": "KalOEHsZ7XO7"
      },
      "source": [
        " from sklearn import preprocessing\n",
        " le = preprocessing.LabelEncoder()"
      ],
      "execution_count": null,
      "outputs": []
    },
    {
      "cell_type": "code",
      "metadata": {
        "id": "7rvFMEBa7ZvH"
      },
      "source": [
        "data['subjectenc']=le.fit_transform(data.subject.tolist())"
      ],
      "execution_count": null,
      "outputs": []
    },
    {
      "cell_type": "code",
      "metadata": {
        "id": "Hk27EB0P7mfm"
      },
      "source": [
        "subject_data=pd.DataFrame(pd.get_dummies(data.Target)['Fake'])\n",
        "subject_data['subjectenc']=data['subjectenc']"
      ],
      "execution_count": null,
      "outputs": []
    },
    {
      "cell_type": "code",
      "metadata": {
        "colab": {
          "base_uri": "https://localhost:8080/",
          "height": 110
        },
        "id": "gF6MDhx-7q8a",
        "outputId": "c4548adb-8716-4b3e-d7ba-0fe4891bfb6a"
      },
      "source": [
        "subject_data.corr()"
      ],
      "execution_count": null,
      "outputs": [
        {
          "output_type": "execute_result",
          "data": {
            "text/html": [
              "<div>\n",
              "<style scoped>\n",
              "    .dataframe tbody tr th:only-of-type {\n",
              "        vertical-align: middle;\n",
              "    }\n",
              "\n",
              "    .dataframe tbody tr th {\n",
              "        vertical-align: top;\n",
              "    }\n",
              "\n",
              "    .dataframe thead th {\n",
              "        text-align: right;\n",
              "    }\n",
              "</style>\n",
              "<table border=\"1\" class=\"dataframe\">\n",
              "  <thead>\n",
              "    <tr style=\"text-align: right;\">\n",
              "      <th></th>\n",
              "      <th>Fake</th>\n",
              "      <th>subjectenc</th>\n",
              "    </tr>\n",
              "  </thead>\n",
              "  <tbody>\n",
              "    <tr>\n",
              "      <th>Fake</th>\n",
              "      <td>1.0000</td>\n",
              "      <td>-0.8162</td>\n",
              "    </tr>\n",
              "    <tr>\n",
              "      <th>subjectenc</th>\n",
              "      <td>-0.8162</td>\n",
              "      <td>1.0000</td>\n",
              "    </tr>\n",
              "  </tbody>\n",
              "</table>\n",
              "</div>"
            ],
            "text/plain": [
              "              Fake  subjectenc\n",
              "Fake        1.0000     -0.8162\n",
              "subjectenc -0.8162      1.0000"
            ]
          },
          "metadata": {},
          "execution_count": 27
        }
      ]
    },
    {
      "cell_type": "code",
      "metadata": {
        "colab": {
          "base_uri": "https://localhost:8080/",
          "height": 417
        },
        "id": "ndhOfo7-7uRn",
        "outputId": "e264a7aa-ea4d-4edb-e8e7-0540187551c4"
      },
      "source": [
        "data.drop(columns=['subject'])"
      ],
      "execution_count": null,
      "outputs": [
        {
          "output_type": "execute_result",
          "data": {
            "text/html": [
              "<div>\n",
              "<style scoped>\n",
              "    .dataframe tbody tr th:only-of-type {\n",
              "        vertical-align: middle;\n",
              "    }\n",
              "\n",
              "    .dataframe tbody tr th {\n",
              "        vertical-align: top;\n",
              "    }\n",
              "\n",
              "    .dataframe thead th {\n",
              "        text-align: right;\n",
              "    }\n",
              "</style>\n",
              "<table border=\"1\" class=\"dataframe\">\n",
              "  <thead>\n",
              "    <tr style=\"text-align: right;\">\n",
              "      <th></th>\n",
              "      <th>title</th>\n",
              "      <th>text</th>\n",
              "      <th>date</th>\n",
              "      <th>Target</th>\n",
              "      <th>subjectenc</th>\n",
              "    </tr>\n",
              "  </thead>\n",
              "  <tbody>\n",
              "    <tr>\n",
              "      <th>0</th>\n",
              "      <td>BREAKING: CLEVELAND POLICE CHIEF Asks Ohio Gov...</td>\n",
              "      <td>Obama s war on America just got real These act...</td>\n",
              "      <td>Jul 17, 2016</td>\n",
              "      <td>Fake</td>\n",
              "      <td>4</td>\n",
              "    </tr>\n",
              "    <tr>\n",
              "      <th>1</th>\n",
              "      <td>BREAKING: Democrat Congressman, Vocal ILLEGAL ...</td>\n",
              "      <td>Rep. Luis Guti rrez (Ill.), one of the most vo...</td>\n",
              "      <td>Nov 27, 2017</td>\n",
              "      <td>Fake</td>\n",
              "      <td>5</td>\n",
              "    </tr>\n",
              "    <tr>\n",
              "      <th>2</th>\n",
              "      <td>U.S. Senate panel approves Trump pick for top ...</td>\n",
              "      <td>WASHINGTON (Reuters) - The Republican-led U.S....</td>\n",
              "      <td>July 20, 2017</td>\n",
              "      <td>True</td>\n",
              "      <td>6</td>\n",
              "    </tr>\n",
              "    <tr>\n",
              "      <th>3</th>\n",
              "      <td>What’s Really Behind the Senate’s Override of ...</td>\n",
              "      <td>21st Century Wire says While the US media fol...</td>\n",
              "      <td>September 28, 2016</td>\n",
              "      <td>Fake</td>\n",
              "      <td>1</td>\n",
              "    </tr>\n",
              "    <tr>\n",
              "      <th>4</th>\n",
              "      <td>TOP FIVE Food Stamp Fraud Takedowns of 2017…Do...</td>\n",
              "      <td>After the Obama years of record food stamp us...</td>\n",
              "      <td>Dec 30, 2017</td>\n",
              "      <td>Fake</td>\n",
              "      <td>4</td>\n",
              "    </tr>\n",
              "    <tr>\n",
              "      <th>...</th>\n",
              "      <td>...</td>\n",
              "      <td>...</td>\n",
              "      <td>...</td>\n",
              "      <td>...</td>\n",
              "      <td>...</td>\n",
              "    </tr>\n",
              "    <tr>\n",
              "      <th>44893</th>\n",
              "      <td>SHOCKING: Why Our Fed Government Will Grant “D...</td>\n",
              "      <td>If we didn t know better, we d almost believe ...</td>\n",
              "      <td>Apr 7, 2015</td>\n",
              "      <td>Fake</td>\n",
              "      <td>4</td>\n",
              "    </tr>\n",
              "    <tr>\n",
              "      <th>44894</th>\n",
              "      <td>'Dreamer' immigration bill not on U.S. Senate ...</td>\n",
              "      <td>WASHINGTON (Reuters) - The U.S. Senate will no...</td>\n",
              "      <td>December 18, 2017</td>\n",
              "      <td>True</td>\n",
              "      <td>6</td>\n",
              "    </tr>\n",
              "    <tr>\n",
              "      <th>44895</th>\n",
              "      <td>SUPREME COURT AGREES TO TAKE ON Obama’s Un-Ame...</td>\n",
              "      <td>So far, the Supreme Court has not prevented on...</td>\n",
              "      <td>Jan 19, 2016</td>\n",
              "      <td>Fake</td>\n",
              "      <td>5</td>\n",
              "    </tr>\n",
              "    <tr>\n",
              "      <th>44896</th>\n",
              "      <td>Trump Team Didn’t Just Collude with Israel, Ku...</td>\n",
              "      <td>Patrick Henningsen 21st Century WireMuch was m...</td>\n",
              "      <td>December 7, 2017</td>\n",
              "      <td>Fake</td>\n",
              "      <td>1</td>\n",
              "    </tr>\n",
              "    <tr>\n",
              "      <th>44897</th>\n",
              "      <td>This Cartoon CRUSHES Every Single Talking Poi...</td>\n",
              "      <td>Americans have a right to defend themselves. ...</td>\n",
              "      <td>June 13, 2016</td>\n",
              "      <td>Fake</td>\n",
              "      <td>2</td>\n",
              "    </tr>\n",
              "  </tbody>\n",
              "</table>\n",
              "<p>44898 rows × 5 columns</p>\n",
              "</div>"
            ],
            "text/plain": [
              "                                                   title  \\\n",
              "0      BREAKING: CLEVELAND POLICE CHIEF Asks Ohio Gov...   \n",
              "1      BREAKING: Democrat Congressman, Vocal ILLEGAL ...   \n",
              "2      U.S. Senate panel approves Trump pick for top ...   \n",
              "3      What’s Really Behind the Senate’s Override of ...   \n",
              "4      TOP FIVE Food Stamp Fraud Takedowns of 2017…Do...   \n",
              "...                                                  ...   \n",
              "44893  SHOCKING: Why Our Fed Government Will Grant “D...   \n",
              "44894  'Dreamer' immigration bill not on U.S. Senate ...   \n",
              "44895  SUPREME COURT AGREES TO TAKE ON Obama’s Un-Ame...   \n",
              "44896  Trump Team Didn’t Just Collude with Israel, Ku...   \n",
              "44897   This Cartoon CRUSHES Every Single Talking Poi...   \n",
              "\n",
              "                                                    text                date  \\\n",
              "0      Obama s war on America just got real These act...        Jul 17, 2016   \n",
              "1      Rep. Luis Guti rrez (Ill.), one of the most vo...        Nov 27, 2017   \n",
              "2      WASHINGTON (Reuters) - The Republican-led U.S....      July 20, 2017    \n",
              "3       21st Century Wire says While the US media fol...  September 28, 2016   \n",
              "4       After the Obama years of record food stamp us...        Dec 30, 2017   \n",
              "...                                                  ...                 ...   \n",
              "44893  If we didn t know better, we d almost believe ...         Apr 7, 2015   \n",
              "44894  WASHINGTON (Reuters) - The U.S. Senate will no...  December 18, 2017    \n",
              "44895  So far, the Supreme Court has not prevented on...        Jan 19, 2016   \n",
              "44896  Patrick Henningsen 21st Century WireMuch was m...    December 7, 2017   \n",
              "44897   Americans have a right to defend themselves. ...       June 13, 2016   \n",
              "\n",
              "      Target  subjectenc  \n",
              "0       Fake           4  \n",
              "1       Fake           5  \n",
              "2       True           6  \n",
              "3       Fake           1  \n",
              "4       Fake           4  \n",
              "...      ...         ...  \n",
              "44893   Fake           4  \n",
              "44894   True           6  \n",
              "44895   Fake           5  \n",
              "44896   Fake           1  \n",
              "44897   Fake           2  \n",
              "\n",
              "[44898 rows x 5 columns]"
            ]
          },
          "metadata": {},
          "execution_count": 28
        }
      ]
    },
    {
      "cell_type": "code",
      "metadata": {
        "id": "Jig9kcTc72Fr"
      },
      "source": [
        "data['label']=pd.get_dummies(data.Target)['Fake']"
      ],
      "execution_count": null,
      "outputs": []
    },
    {
      "cell_type": "code",
      "metadata": {
        "id": "bAVpJuK776FQ"
      },
      "source": [
        "train_text, temp_text, train_labels, temp_labels = train_test_split(data['title'], data['label'], \n",
        "                                                                    random_state=2018, \n",
        "                                                                    test_size=0.3, \n",
        "                                                                    stratify=data['Target'])"
      ],
      "execution_count": null,
      "outputs": []
    },
    {
      "cell_type": "code",
      "metadata": {
        "id": "zY_0zImA8OK2"
      },
      "source": [
        "val_text, test_text, val_labels, test_labels = train_test_split(temp_text, temp_labels, \n",
        "                                                                random_state=2018, \n",
        "                                                                test_size=0.5, \n",
        "                                                                stratify=temp_labels)\n"
      ],
      "execution_count": null,
      "outputs": []
    },
    {
      "cell_type": "code",
      "metadata": {
        "colab": {
          "base_uri": "https://localhost:8080/",
          "height": 629
        },
        "id": "8J3YqbXr8XiD",
        "outputId": "bcf275da-9255-4b09-9e29-e0b85cfb5a22"
      },
      "source": [
        "seq_len = [len(i.split()) for i in train_text]\n",
        "\n",
        "pd.Series(seq_len).hist(bins = 40,color='firebrick')\n",
        "plt.xlabel('Number of Words')\n",
        "plt.ylabel('Number of texts')"
      ],
      "execution_count": null,
      "outputs": [
        {
          "output_type": "execute_result",
          "data": {
            "text/plain": [
              "Text(0, 0.5, 'Number of texts')"
            ]
          },
          "metadata": {},
          "execution_count": 32
        },
        {
          "output_type": "display_data",
          "data": {
            "image/png": "[encoded data removed]",
            "text/plain": [
              "<Figure size 720x720 with 1 Axes>"
            ]
          },
          "metadata": {}
        }
      ]
    },
    {
      "cell_type": "code",
      "metadata": {
        "id": "M08SGZz46ZWs"
      },
      "source": [
        "bert = AutoModel.from_pretrained('bert-base-uncased')\n",
        "tokenizer = BertTokenizerFast.from_pretrained('bert-base-uncased')"
      ],
      "execution_count": null,
      "outputs": []
    },
    {
      "cell_type": "code",
      "metadata": {
        "id": "8WJt-YPdJMU9"
      },
      "source": [
        "MAX_LENGHT = 15\n",
        "tokens_train = tokenizer.batch_encode_plus(\n",
        "    train_text.tolist(),\n",
        "    max_length = MAX_LENGHT,\n",
        "    pad_to_max_length=True,\n",
        "    truncation=True\n",
        ")\n",
        "\n",
        "tokens_val = tokenizer.batch_encode_plus(\n",
        "    val_text.tolist(),\n",
        "    max_length = MAX_LENGHT,\n",
        "    pad_to_max_length=True,\n",
        "    truncation=True\n",
        ")\n",
        "\n",
        "tokens_test = tokenizer.batch_encode_plus(\n",
        "    test_text.tolist(),\n",
        "    max_length = MAX_LENGHT,\n",
        "    pad_to_max_length=True,\n",
        "    truncation=True\n",
        ")"
      ],
      "execution_count": null,
      "outputs": []
    },
    {
      "cell_type": "code",
      "metadata": {
        "id": "e7aAV2qGJR8s"
      },
      "source": [
        "train_seq = torch.tensor(tokens_train['input_ids'])\n",
        "train_mask = torch.tensor(tokens_train['attention_mask'])\n",
        "train_y = torch.tensor(train_labels.tolist())\n",
        "\n",
        "val_seq = torch.tensor(tokens_val['input_ids'])\n",
        "val_mask = torch.tensor(tokens_val['attention_mask'])\n",
        "val_y = torch.tensor(val_labels.tolist())\n",
        "\n",
        "test_seq = torch.tensor(tokens_test['input_ids'])\n",
        "test_mask = torch.tensor(tokens_test['attention_mask'])\n",
        "test_y = torch.tensor(test_labels.tolist())"
      ],
      "execution_count": null,
      "outputs": []
    },
    {
      "cell_type": "code",
      "metadata": {
        "id": "bYQl5K3ZJWX5"
      },
      "source": [
        "from torch.utils.data import TensorDataset, DataLoader, RandomSampler, SequentialSampler\n",
        "\n",
        "batch_size = 32\n",
        "\n",
        "train_data = TensorDataset(train_seq, train_mask, train_y)\n",
        "\n",
        "train_sampler = RandomSampler(train_data)\n",
        "\n",
        "train_dataloader = DataLoader(train_data, sampler=train_sampler, batch_size=batch_size)\n",
        "\n",
        "val_data = TensorDataset(val_seq, val_mask, val_y)\n",
        "\n",
        "val_sampler = SequentialSampler(val_data)\n",
        "\n",
        "val_dataloader = DataLoader(val_data, sampler = val_sampler, batch_size=batch_size)"
      ],
      "execution_count": null,
      "outputs": []
    },
    {
      "cell_type": "code",
      "metadata": {
        "id": "TZq0r_lmJZbj"
      },
      "source": [
        "for param in bert.parameters():\n",
        "    param.requires_grad = False"
      ],
      "execution_count": null,
      "outputs": []
    },
    {
      "cell_type": "code",
      "metadata": {
        "id": "gpH2x0CqJc50"
      },
      "source": [
        "class BERT_Arch(nn.Module):\n",
        "\n",
        "    def __init__(self, bert):\n",
        "      \n",
        "      super(BERT_Arch, self).__init__()\n",
        "\n",
        "      self.bert = bert \n",
        "      \n",
        "      self.dropout = nn.Dropout(0.1)\n",
        "      \n",
        "      self.relu =  nn.ReLU()\n",
        "\n",
        "      self.fc1 = nn.Linear(768,512)\n",
        "  \n",
        "      self.fc2 = nn.Linear(512,2)\n",
        "\n",
        "      self.softmax = nn.LogSoftmax(dim=1)\n",
        "\n",
        "    def forward(self, sent_id, mask):\n",
        "\n",
        "      cls_hs = self.bert(sent_id, attention_mask=mask)['pooler_output']\n",
        "      x = self.fc1(cls_hs)\n",
        "\n",
        "      x = self.relu(x)\n",
        "\n",
        "      x = self.dropout(x)\n",
        "\n",
        "      x = self.fc2(x)\n",
        "\n",
        "      x = self.softmax(x)\n",
        "\n",
        "      return x"
      ],
      "execution_count": null,
      "outputs": []
    },
    {
      "cell_type": "code",
      "metadata": {
        "id": "Bx30NWRkJgIy"
      },
      "source": [
        "model = BERT_Arch(bert)"
      ],
      "execution_count": null,
      "outputs": []
    },
    {
      "cell_type": "code",
      "metadata": {
        "id": "kLm8HBsHJlUC"
      },
      "source": [
        "from transformers import AdamW\n",
        "\n",
        "optimizer = AdamW(model.parameters(), lr = 1e-5)          "
      ],
      "execution_count": null,
      "outputs": []
    },
    {
      "cell_type": "code",
      "metadata": {
        "colab": {
          "base_uri": "https://localhost:8080/"
        },
        "id": "QLyaHDhYJoHz",
        "outputId": "be6db41d-7f21-4b1d-df57-8cf6a4aadbb0"
      },
      "source": [
        "from sklearn.utils.class_weight import compute_class_weight\n",
        "\n",
        "class_weights = compute_class_weight('balanced', np.unique(train_labels), train_labels)\n",
        "\n",
        "print(\"Class Weights:\",class_weights)"
      ],
      "execution_count": null,
      "outputs": [
        {
          "output_type": "stream",
          "name": "stdout",
          "text": [
            "Class Weights: [1.04815902 0.95607204]\n"
          ]
        }
      ]
    },
    {
      "cell_type": "code",
      "metadata": {
        "id": "n9E_i26JJrQR"
      },
      "source": [
        "weights= torch.tensor(class_weights,dtype=torch.float)\n",
        "\n",
        "cross_entropy  = nn.NLLLoss(weight=weights) \n",
        "\n",
        "epochs = 10"
      ],
      "execution_count": null,
      "outputs": []
    },
    {
      "cell_type": "code",
      "metadata": {
        "id": "7j29gjo-JvY_"
      },
      "source": [
        "def train():\n",
        "  \n",
        "  model.train()\n",
        "\n",
        "  total_loss, total_accuracy = 0, 0\n",
        " \n",
        "  total_preds=[]\n",
        "\n",
        "  for step,batch in enumerate(train_dataloader):\n",
        "\n",
        "    if step % 50 == 0 and not step == 0:\n",
        "      print('  Batch {:>5,}  of  {:>5,}.'.format(step, len(train_dataloader)))\n",
        "\n",
        "    batch = [r for r in batch]\n",
        "    sent_id, mask, labels = batch\n",
        "\n",
        "    model.zero_grad()        \n",
        " \n",
        "    preds = model(sent_id, mask)\n",
        "\n",
        "    loss = cross_entropy(preds, labels)\n",
        "\n",
        "    total_loss = total_loss + loss.item()\n",
        "\n",
        "    loss.backward()\n",
        "\n",
        "    torch.nn.utils.clip_grad_norm_(model.parameters(), 1.0)\n",
        "\n",
        "    optimizer.step()\n",
        "\n",
        "    preds=preds.detach().cpu().numpy()\n",
        "\n",
        "    total_preds.append(preds)\n",
        "\n",
        "  avg_loss = total_loss / len(train_dataloader)\n",
        "  \n",
        "  total_preds  = np.concatenate(total_preds, axis=0)\n",
        "\n",
        "  return avg_loss, total_preds"
      ],
      "execution_count": null,
      "outputs": []
    },
    {
      "cell_type": "code",
      "metadata": {
        "id": "WxlBF1VjJz43"
      },
      "source": [
        "def evaluate():\n",
        "  \n",
        "  print(\"\\nEvaluating...\")\n",
        "\n",
        "  model.eval()\n",
        "\n",
        "  total_loss, total_accuracy = 0, 0\n",
        "\n",
        "  total_preds = []\n",
        "\n",
        "  for step,batch in enumerate(val_dataloader):\n",
        "\n",
        "    if step % 50 == 0 and not step == 0:\n",
        "      \n",
        "\n",
        "      print('  Batch {:>5,}  of  {:>5,}.'.format(step, len(val_dataloader)))\n",
        "\n",
        "    batch = [t for t in batch]\n",
        "\n",
        "    sent_id, mask, labels = batch\n",
        "\n",
        "    with torch.no_grad():\n",
        "\n",
        "      preds = model(sent_id, mask)\n",
        "\n",
        "      loss = cross_entropy(preds,labels)\n",
        "\n",
        "      total_loss = total_loss + loss.item()\n",
        "\n",
        "      preds = preds.detach().cpu().numpy()\n",
        "\n",
        "      total_preds.append(preds)\n",
        "\n",
        "  avg_loss = total_loss / len(val_dataloader) \n",
        "\n",
        "  total_preds  = np.concatenate(total_preds, axis=0)\n",
        "\n",
        "  return avg_loss, total_preds"
      ],
      "execution_count": null,
      "outputs": []
    },
    {
      "cell_type": "code",
      "metadata": {
        "colab": {
          "base_uri": "https://localhost:8080/"
        },
        "id": "FmVbTumfJ5Yq",
        "outputId": "5eae8e30-c725-4c12-f349-13a30ea237d6"
      },
      "source": [
        "best_valid_loss = float('inf')\n",
        "\n",
        "train_losses=[]\n",
        "valid_losses=[]\n",
        "\n",
        "for epoch in range(epochs):\n",
        "     \n",
        "    print('\\n Epoch {:} / {:}'.format(epoch + 1, epochs))\n",
        "    \n",
        "\n",
        "    train_loss, _ = train()\n",
        "    \n",
        "\n",
        "    valid_loss, _ = evaluate()\n",
        "    \n",
        "\n",
        "    if valid_loss < best_valid_loss:\n",
        "        best_valid_loss = valid_loss\n",
        "        torch.save(model.state_dict(), 'saved_weights.pt')\n",
        "\n",
        "    train_losses.append(train_loss)\n",
        "    valid_losses.append(valid_loss)\n",
        "    \n",
        "    print(f'\\nTraining Loss: {train_loss:.3f}')\n",
        "    print(f'Validation Loss: {valid_loss:.3f}')"
      ],
      "execution_count": null,
      "outputs": [
        {
          "output_type": "stream",
          "name": "stdout",
          "text": [
            "\n",
            " Epoch 1 / 10\n",
            "  Batch    50  of    983.\n",
            "  Batch   100  of    983.\n",
            "  Batch   150  of    983.\n",
            "  Batch   200  of    983.\n",
            "  Batch   250  of    983.\n",
            "  Batch   300  of    983.\n",
            "  Batch   350  of    983.\n",
            "  Batch   400  of    983.\n",
            "  Batch   450  of    983.\n",
            "  Batch   500  of    983.\n",
            "  Batch   550  of    983.\n",
            "  Batch   600  of    983.\n",
            "  Batch   650  of    983.\n",
            "  Batch   700  of    983.\n",
            "  Batch   750  of    983.\n",
            "  Batch   800  of    983.\n",
            "  Batch   850  of    983.\n",
            "  Batch   900  of    983.\n",
            "  Batch   950  of    983.\n",
            "\n",
            "Evaluating...\n",
            "  Batch    50  of    211.\n",
            "  Batch   100  of    211.\n",
            "  Batch   150  of    211.\n",
            "  Batch   200  of    211.\n",
            "\n",
            "Training Loss: 0.561\n",
            "Validation Loss: 0.476\n",
            "\n",
            " Epoch 2 / 10\n",
            "  Batch    50  of    983.\n",
            "  Batch   100  of    983.\n",
            "  Batch   150  of    983.\n",
            "  Batch   200  of    983.\n",
            "  Batch   250  of    983.\n",
            "  Batch   300  of    983.\n",
            "  Batch   350  of    983.\n",
            "  Batch   400  of    983.\n",
            "  Batch   450  of    983.\n",
            "  Batch   500  of    983.\n",
            "  Batch   550  of    983.\n",
            "  Batch   600  of    983.\n",
            "  Batch   650  of    983.\n",
            "  Batch   700  of    983.\n",
            "  Batch   750  of    983.\n",
            "  Batch   800  of    983.\n",
            "  Batch   850  of    983.\n",
            "  Batch   900  of    983.\n",
            "  Batch   950  of    983.\n",
            "\n",
            "Evaluating...\n",
            "  Batch    50  of    211.\n",
            "  Batch   100  of    211.\n",
            "  Batch   150  of    211.\n",
            "  Batch   200  of    211.\n",
            "\n",
            "Training Loss: 0.469\n",
            "Validation Loss: 0.419\n",
            "\n",
            " Epoch 3 / 10\n",
            "  Batch    50  of    983.\n",
            "  Batch   100  of    983.\n",
            "  Batch   150  of    983.\n",
            "  Batch   200  of    983.\n",
            "  Batch   250  of    983.\n",
            "  Batch   300  of    983.\n",
            "  Batch   350  of    983.\n",
            "  Batch   400  of    983.\n",
            "  Batch   450  of    983.\n",
            "  Batch   500  of    983.\n",
            "  Batch   550  of    983.\n",
            "  Batch   600  of    983.\n",
            "  Batch   650  of    983.\n",
            "  Batch   700  of    983.\n",
            "  Batch   750  of    983.\n",
            "  Batch   800  of    983.\n",
            "  Batch   850  of    983.\n",
            "  Batch   900  of    983.\n",
            "  Batch   950  of    983.\n",
            "\n",
            "Evaluating...\n",
            "  Batch    50  of    211.\n",
            "  Batch   100  of    211.\n",
            "  Batch   150  of    211.\n",
            "  Batch   200  of    211.\n",
            "\n",
            "Training Loss: 0.416\n",
            "Validation Loss: 0.368\n",
            "\n",
            " Epoch 4 / 10\n",
            "  Batch    50  of    983.\n",
            "  Batch   100  of    983.\n",
            "  Batch   150  of    983.\n",
            "  Batch   200  of    983.\n",
            "  Batch   250  of    983.\n",
            "  Batch   300  of    983.\n",
            "  Batch   350  of    983.\n",
            "  Batch   400  of    983.\n",
            "  Batch   450  of    983.\n",
            "  Batch   500  of    983.\n",
            "  Batch   550  of    983.\n",
            "  Batch   600  of    983.\n",
            "  Batch   650  of    983.\n",
            "  Batch   700  of    983.\n",
            "  Batch   750  of    983.\n",
            "  Batch   800  of    983.\n",
            "  Batch   850  of    983.\n",
            "  Batch   900  of    983.\n",
            "  Batch   950  of    983.\n",
            "\n",
            "Evaluating...\n",
            "  Batch    50  of    211.\n",
            "  Batch   100  of    211.\n",
            "  Batch   150  of    211.\n",
            "  Batch   200  of    211.\n",
            "\n",
            "Training Loss: 0.380\n",
            "Validation Loss: 0.342\n",
            "\n",
            " Epoch 5 / 10\n",
            "  Batch    50  of    983.\n",
            "  Batch   100  of    983.\n",
            "  Batch   150  of    983.\n",
            "  Batch   200  of    983.\n",
            "  Batch   250  of    983.\n",
            "  Batch   300  of    983.\n",
            "  Batch   350  of    983.\n",
            "  Batch   400  of    983.\n",
            "  Batch   450  of    983.\n",
            "  Batch   500  of    983.\n",
            "  Batch   550  of    983.\n",
            "  Batch   600  of    983.\n",
            "  Batch   650  of    983.\n",
            "  Batch   700  of    983.\n",
            "  Batch   750  of    983.\n",
            "  Batch   800  of    983.\n",
            "  Batch   850  of    983.\n",
            "  Batch   900  of    983.\n",
            "  Batch   950  of    983.\n",
            "\n",
            "Evaluating...\n",
            "  Batch    50  of    211.\n",
            "  Batch   100  of    211.\n",
            "  Batch   150  of    211.\n",
            "  Batch   200  of    211.\n",
            "\n",
            "Training Loss: 0.356\n",
            "Validation Loss: 0.326\n",
            "\n",
            " Epoch 6 / 10\n",
            "  Batch    50  of    983.\n",
            "  Batch   100  of    983.\n",
            "  Batch   150  of    983.\n",
            "  Batch   200  of    983.\n",
            "  Batch   250  of    983.\n",
            "  Batch   300  of    983.\n",
            "  Batch   350  of    983.\n",
            "  Batch   400  of    983.\n",
            "  Batch   450  of    983.\n",
            "  Batch   500  of    983.\n",
            "  Batch   550  of    983.\n",
            "  Batch   600  of    983.\n",
            "  Batch   650  of    983.\n",
            "  Batch   700  of    983.\n",
            "  Batch   750  of    983.\n",
            "  Batch   800  of    983.\n",
            "  Batch   850  of    983.\n",
            "  Batch   900  of    983.\n",
            "  Batch   950  of    983.\n",
            "\n",
            "Evaluating...\n",
            "  Batch    50  of    211.\n",
            "  Batch   100  of    211.\n",
            "  Batch   150  of    211.\n",
            "  Batch   200  of    211.\n",
            "\n",
            "Training Loss: 0.337\n",
            "Validation Loss: 0.307\n",
            "\n",
            " Epoch 7 / 10\n",
            "  Batch    50  of    983.\n",
            "  Batch   100  of    983.\n",
            "  Batch   150  of    983.\n",
            "  Batch   200  of    983.\n",
            "  Batch   250  of    983.\n",
            "  Batch   300  of    983.\n",
            "  Batch   350  of    983.\n",
            "  Batch   400  of    983.\n",
            "  Batch   450  of    983.\n",
            "  Batch   500  of    983.\n",
            "  Batch   550  of    983.\n",
            "  Batch   600  of    983.\n",
            "  Batch   650  of    983.\n",
            "  Batch   700  of    983.\n",
            "  Batch   750  of    983.\n",
            "  Batch   800  of    983.\n",
            "  Batch   850  of    983.\n",
            "  Batch   900  of    983.\n",
            "  Batch   950  of    983.\n",
            "\n",
            "Evaluating...\n",
            "  Batch    50  of    211.\n",
            "  Batch   100  of    211.\n",
            "  Batch   150  of    211.\n",
            "  Batch   200  of    211.\n",
            "\n",
            "Training Loss: 0.332\n",
            "Validation Loss: 0.298\n",
            "\n",
            " Epoch 8 / 10\n",
            "  Batch    50  of    983.\n",
            "  Batch   100  of    983.\n",
            "  Batch   150  of    983.\n",
            "  Batch   200  of    983.\n",
            "  Batch   250  of    983.\n",
            "  Batch   300  of    983.\n",
            "  Batch   350  of    983.\n",
            "  Batch   400  of    983.\n",
            "  Batch   450  of    983.\n",
            "  Batch   500  of    983.\n",
            "  Batch   550  of    983.\n",
            "  Batch   600  of    983.\n",
            "  Batch   650  of    983.\n",
            "  Batch   700  of    983.\n",
            "  Batch   750  of    983.\n",
            "  Batch   800  of    983.\n",
            "  Batch   850  of    983.\n",
            "  Batch   900  of    983.\n",
            "  Batch   950  of    983.\n",
            "\n",
            "Evaluating...\n",
            "  Batch    50  of    211.\n",
            "  Batch   100  of    211.\n",
            "  Batch   150  of    211.\n",
            "  Batch   200  of    211.\n",
            "\n",
            "Training Loss: 0.322\n",
            "Validation Loss: 0.291\n",
            "\n",
            " Epoch 9 / 10\n",
            "  Batch    50  of    983.\n",
            "  Batch   100  of    983.\n",
            "  Batch   150  of    983.\n",
            "  Batch   200  of    983.\n",
            "  Batch   250  of    983.\n",
            "  Batch   300  of    983.\n",
            "  Batch   350  of    983.\n",
            "  Batch   400  of    983.\n",
            "  Batch   450  of    983.\n",
            "  Batch   500  of    983.\n",
            "  Batch   550  of    983.\n",
            "  Batch   600  of    983.\n",
            "  Batch   650  of    983.\n",
            "  Batch   700  of    983.\n",
            "  Batch   750  of    983.\n",
            "  Batch   800  of    983.\n",
            "  Batch   850  of    983.\n",
            "  Batch   900  of    983.\n",
            "  Batch   950  of    983.\n",
            "\n",
            "Evaluating...\n",
            "  Batch    50  of    211.\n",
            "  Batch   100  of    211.\n",
            "  Batch   150  of    211.\n",
            "  Batch   200  of    211.\n",
            "\n",
            "Training Loss: 0.318\n",
            "Validation Loss: 0.292\n",
            "\n",
            " Epoch 10 / 10\n",
            "  Batch    50  of    983.\n",
            "  Batch   100  of    983.\n",
            "  Batch   150  of    983.\n",
            "  Batch   200  of    983.\n",
            "  Batch   250  of    983.\n",
            "  Batch   300  of    983.\n",
            "  Batch   350  of    983.\n",
            "  Batch   400  of    983.\n",
            "  Batch   450  of    983.\n",
            "  Batch   500  of    983.\n",
            "  Batch   550  of    983.\n",
            "  Batch   600  of    983.\n",
            "  Batch   650  of    983.\n",
            "  Batch   700  of    983.\n",
            "  Batch   750  of    983.\n",
            "  Batch   800  of    983.\n",
            "  Batch   850  of    983.\n",
            "  Batch   900  of    983.\n",
            "  Batch   950  of    983.\n",
            "\n",
            "Evaluating...\n",
            "  Batch    50  of    211.\n",
            "  Batch   100  of    211.\n",
            "  Batch   150  of    211.\n",
            "  Batch   200  of    211.\n",
            "\n",
            "Training Loss: 0.312\n",
            "Validation Loss: 0.291\n"
          ]
        }
      ]
    },
    {
      "cell_type": "code",
      "metadata": {
        "colab": {
          "base_uri": "https://localhost:8080/"
        },
        "id": "elmI86VhfRSe",
        "outputId": "71f05e94-1be3-458d-8156-37ab2a62fccc"
      },
      "source": [
        "path = 'saved_weights.pt'\n",
        "model.load_state_dict(torch.load(path))"
      ],
      "execution_count": null,
      "outputs": [
        {
          "output_type": "execute_result",
          "data": {
            "text/plain": [
              "<All keys matched successfully>"
            ]
          },
          "metadata": {},
          "execution_count": 46
        }
      ]
    },
    {
      "cell_type": "code",
      "metadata": {
        "id": "oqQaNdE6fVql"
      },
      "source": [
        "with torch.no_grad():\n",
        "  preds = model(test_seq, test_mask)\n",
        "  preds = preds.detach().cpu().numpy()"
      ],
      "execution_count": null,
      "outputs": []
    },
    {
      "cell_type": "code",
      "metadata": {
        "colab": {
          "base_uri": "https://localhost:8080/"
        },
        "id": "k7e9HxcufrPT",
        "outputId": "417388f6-6dd4-4228-eda4-b0bc3571dd5c"
      },
      "source": [
        "preds = np.argmax(preds, axis = 1)\n",
        "print(classification_report(test_y, preds))"
      ],
      "execution_count": null,
      "outputs": [
        {
          "output_type": "stream",
          "name": "stdout",
          "text": [
            "              precision    recall  f1-score   support\n",
            "\n",
            "           0       0.84      0.93      0.88      3213\n",
            "           1       0.93      0.84      0.88      3522\n",
            "\n",
            "    accuracy                           0.88      6735\n",
            "   macro avg       0.88      0.88      0.88      6735\n",
            "weighted avg       0.89      0.88      0.88      6735\n",
            "\n"
          ]
        }
      ]
    },
    {
      "cell_type": "code",
      "metadata": {
        "id": "yORuPyYwiphe"
      },
      "source": [
        "from sklearn.metrics import confusion_matrix"
      ],
      "execution_count": null,
      "outputs": []
    },
    {
      "cell_type": "code",
      "metadata": {
        "id": "cNKqZ0bQitOx",
        "colab": {
          "base_uri": "https://localhost:8080/"
        },
        "outputId": "a2a8abed-ca97-4cd8-aabf-134d9f3b2ab8"
      },
      "source": [
        "confusion_matrix(preds,test_y)"
      ],
      "execution_count": null,
      "outputs": [
        {
          "output_type": "execute_result",
          "data": {
            "text/plain": [
              "array([[2988,  570],\n",
              "       [ 225, 2952]])"
            ]
          },
          "metadata": {},
          "execution_count": 53
        }
      ]
    }
  ]
}